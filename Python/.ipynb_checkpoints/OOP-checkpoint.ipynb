{
 "cells": [
  {
   "cell_type": "code",
   "execution_count": null,
   "metadata": {},
   "outputs": [],
   "source": [
    "class Computer:\n",
    "    def config(self):\n",
    "        print(\"i5\",\"16gb\",\"1TB\")\n",
    "\n",
    "    def model(self):\n",
    "        print(2021)        \n",
    "\n",
    "\n",
    "# type -1\n",
    "Comp = Computer()\n",
    "Computer.config(Comp)\n",
    "# type -2\n",
    "modl = Computer()\n",
    "modl.config()\n"
   ]
  },
  {
   "cell_type": "code",
   "execution_count": 14,
   "metadata": {},
   "outputs": [
    {
     "name": "stdout",
     "output_type": "stream",
     "text": [
      "config is : i5 2gb\n",
      "model is : 555\n"
     ]
    }
   ],
   "source": [
    "class Computer:\n",
    "    def __init__(self,cpu,ram,modl):\n",
    "        self.cp = cpu\n",
    "        self.ra = ram\n",
    "        self.mdl = modl\n",
    "    \n",
    "    def config(self):\n",
    "        print(\"config is :\", self.cp, self.ra)\n",
    "        \n",
    "    def model(self):\n",
    "        print(\"model is :\" , self.mdl)\n",
    "\n",
    "\n",
    "Comp = Computer(\"i5\",\"2gb\",\"KZA2\")\n",
    "Comp.config()\n",
    "\n",
    "Comp.model()"
   ]
  },
  {
   "cell_type": "code",
   "execution_count": null,
   "metadata": {},
   "outputs": [],
   "source": []
  }
 ],
 "metadata": {
  "kernelspec": {
   "display_name": "Python 3",
   "language": "python",
   "name": "python3"
  },
  "language_info": {
   "codemirror_mode": {
    "name": "ipython",
    "version": 3
   },
   "file_extension": ".py",
   "mimetype": "text/x-python",
   "name": "python",
   "nbconvert_exporter": "python",
   "pygments_lexer": "ipython3",
   "version": "3.8.3"
  }
 },
 "nbformat": 4,
 "nbformat_minor": 4
}
