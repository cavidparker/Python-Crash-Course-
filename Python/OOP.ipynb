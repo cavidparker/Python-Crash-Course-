{
 "cells": [
  {
   "cell_type": "code",
   "execution_count": null,
   "metadata": {},
   "outputs": [],
   "source": [
    "class Computer:\n",
    "    def config(self):\n",
    "        print(\"i5\",\"16gb\",\"1TB\")\n",
    "\n",
    "    def model(self):\n",
    "        print(2021)        \n",
    "\n",
    "\n",
    "# type -1\n",
    "Comp = Computer()\n",
    "Computer.config(Comp)\n",
    "# type -2\n",
    "modl = Computer()\n",
    "modl.config()\n"
   ]
  },
  {
   "cell_type": "markdown",
   "metadata": {},
   "source": [
    "# __init__ method"
   ]
  },
  {
   "cell_type": "code",
   "execution_count": 15,
   "metadata": {},
   "outputs": [
    {
     "name": "stdout",
     "output_type": "stream",
     "text": [
      "config is : i5 2gb\n",
      "model is : KZA2\n"
     ]
    }
   ],
   "source": [
    "class Computer:\n",
    "    def __init__(self,cpu,ram,modl):\n",
    "        self.cp = cpu\n",
    "        self.ra = ram\n",
    "        self.mdl = modl\n",
    "    \n",
    "    def config(self):\n",
    "        print(\"config is :\", self.cp, self.ra)\n",
    "        \n",
    "    def model(self):\n",
    "        print(\"model is :\" , self.mdl)\n",
    "\n",
    "\n",
    "Comp = Computer(\"i5\",\"2gb\",\"KZA2\")\n",
    "Comp.config()\n",
    "\n",
    "Comp.model()"
   ]
  },
  {
   "cell_type": "markdown",
   "metadata": {},
   "source": [
    "# ID find out"
   ]
  },
  {
   "cell_type": "code",
   "execution_count": 23,
   "metadata": {},
   "outputs": [
    {
     "name": "stdout",
     "output_type": "stream",
     "text": [
      "140217182821872\n",
      "140217182820720\n"
     ]
    }
   ],
   "source": [
    "class Computer:\n",
    "    pass\n",
    "\n",
    "c1 = Computer()\n",
    "c2 = Computer()\n",
    "print(id(c1))\n",
    "print(id(c2))"
   ]
  },
  {
   "cell_type": "markdown",
   "metadata": {},
   "source": [
    "# Update the name"
   ]
  },
  {
   "cell_type": "code",
   "execution_count": 39,
   "metadata": {},
   "outputs": [
    {
     "name": "stdout",
     "output_type": "stream",
     "text": [
      "Apple\n",
      "25\n",
      "Asus\n"
     ]
    }
   ],
   "source": [
    "class Computer:\n",
    "    def __init__(self):\n",
    "        self.name = \"Apple\"\n",
    "        self.age = 25\n",
    "        \n",
    "comp1 = Computer()\n",
    "print(comp1.name)\n",
    "\n",
    "comp1 = Computer()\n",
    "print(comp1.age)\n",
    "\n",
    "change_name.name = \"Asus\"\n",
    "print(change_name.name)\n"
   ]
  },
  {
   "cell_type": "code",
   "execution_count": 66,
   "metadata": {},
   "outputs": [
    {
     "name": "stdout",
     "output_type": "stream",
     "text": [
      "Age find out is:  25\n",
      "Theay are same\n",
      "Apple\n",
      "25\n"
     ]
    }
   ],
   "source": [
    "class Computer:\n",
    "    def __init__(self):\n",
    "        self.name = \"Apple\"\n",
    "        self.age = 25\n",
    "        \n",
    "    def update(self):\n",
    "        self.age = 22\n",
    "        \n",
    "    def compare(self,other):\n",
    "        if self.age == other.age:\n",
    "            return True\n",
    "        else:\n",
    "            return False\n",
    "        \n",
    "        \n",
    "c1 = Computer()\n",
    "print(\"Age find out is: \" ,c1.age)\n",
    "c2 = Computer()\n",
    "\n",
    "if c1.compare(c2):\n",
    "    print(\"Theay are same\")\n",
    "else:\n",
    "    print(\"They are different\")\n",
    "\n",
    "\n",
    "print(comp1.name)\n",
    "print(comp1.age)\n",
    "\n"
   ]
  },
  {
   "cell_type": "markdown",
   "metadata": {},
   "source": [
    "# instance variable and classs variable:"
   ]
  },
  {
   "cell_type": "code",
   "execution_count": 16,
   "metadata": {},
   "outputs": [
    {
     "name": "stdout",
     "output_type": "stream",
     "text": [
      "milage is  7 and wheel is 4\n",
      "company is  BMW and wheel is  4\n"
     ]
    }
   ],
   "source": [
    "class Car:\n",
    "    wheel = 4 # class variable\n",
    "    def __init__(self):\n",
    "        self.milage = 10\n",
    "        self.company = \"BMW\" # instance variable\n",
    "        \n",
    "c1 = Car()\n",
    "c1 =Car()\n",
    "c1.milage = 7\n",
    "\n",
    "print(\"milage is \", c1.milage, \"and wheel is\",c1.wheel)\n",
    "print(\"company is \", c1.company, \"and wheel is \",c1.wheel)"
   ]
  },
  {
   "cell_type": "markdown",
   "metadata": {},
   "source": [
    "# Type of method:"
   ]
  },
  {
   "cell_type": "code",
   "execution_count": 18,
   "metadata": {},
   "outputs": [
    {
     "name": "stdout",
     "output_type": "stream",
     "text": [
      "30.666666666666668\n",
      "34.666666666666664\n"
     ]
    }
   ],
   "source": [
    "class Student:\n",
    "    school = \"K.D\"\n",
    "    \n",
    "    def __init__(self,m1,m2,m3):\n",
    "        self.m1 = m1\n",
    "        self.m2 = m2\n",
    "        self.m3 = m3\n",
    "        \n",
    "    def Avg(self): # instance method\n",
    "        return(self.m1 + self.m2 + self.m3)/3\n",
    "        \n",
    "        \n",
    "s1 = Student(32,25,35)\n",
    "print(s1.Avg())\n",
    "\n",
    "s2 = Student(40,35,29)\n",
    "print(s2.Avg())"
   ]
  },
  {
   "cell_type": "code",
   "execution_count": null,
   "metadata": {},
   "outputs": [],
   "source": []
  }
 ],
 "metadata": {
  "kernelspec": {
   "display_name": "Python 3",
   "language": "python",
   "name": "python3"
  },
  "language_info": {
   "codemirror_mode": {
    "name": "ipython",
    "version": 3
   },
   "file_extension": ".py",
   "mimetype": "text/x-python",
   "name": "python",
   "nbconvert_exporter": "python",
   "pygments_lexer": "ipython3",
   "version": "3.8.3"
  }
 },
 "nbformat": 4,
 "nbformat_minor": 4
}
