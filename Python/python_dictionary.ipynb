{
 "cells": [
  {
   "cell_type": "code",
   "execution_count": 12,
   "metadata": {},
   "outputs": [],
   "source": [
    "users = {\n",
    "    \"aeinstein\":{\n",
    "        \"first\": \"albert\",\n",
    "        \"last\":\"einstein\",\n",
    "        \"location\":\"princeton\"\n",
    "    },\n",
    "    \"mcure\":{\n",
    "        \"first\":\"marie\",\n",
    "        \"last\":\"curie\",\n",
    "        \"location\":\"paris\"\n",
    "    },\n",
    "}"
   ]
  },
  {
   "cell_type": "code",
   "execution_count": 13,
   "metadata": {},
   "outputs": [
    {
     "data": {
      "text/plain": [
       "{'aeinstein': {'first': 'albert', 'last': 'einstein', 'location': 'princeton'},\n",
       " 'mcure': {'first': 'marie', 'last': 'curie', 'location': 'paris'}}"
      ]
     },
     "execution_count": 13,
     "metadata": {},
     "output_type": "execute_result"
    }
   ],
   "source": [
    "users"
   ]
  },
  {
   "cell_type": "code",
   "execution_count": 15,
   "metadata": {},
   "outputs": [
    {
     "name": "stdout",
     "output_type": "stream",
     "text": [
      "\n",
      "Username :aeinstein\n",
      "\t Full name:Alberteinstein\n",
      "\t Location:Princeton\n",
      "\n",
      "Username :mcure\n",
      "\t Full name:Mariecurie\n",
      "\t Location:Paris\n"
     ]
    }
   ],
   "source": [
    "for username, user_info in users.items():\n",
    "        print(\"\\nUsername :\" + username)\n",
    "        full_name = user_info[\"first\"] + \"\" + user_info[\"last\"]\n",
    "        location = user_info[\"location\"]\n",
    "        print(\"\\t Full name:\" + full_name.title())\n",
    "        print(\"\\t Location:\" + location.title())"
   ]
  },
  {
   "cell_type": "code",
   "execution_count": null,
   "metadata": {},
   "outputs": [],
   "source": []
  },
  {
   "cell_type": "code",
   "execution_count": null,
   "metadata": {},
   "outputs": [],
   "source": []
  }
 ],
 "metadata": {
  "kernelspec": {
   "display_name": "Python 3",
   "language": "python",
   "name": "python3"
  },
  "language_info": {
   "codemirror_mode": {
    "name": "ipython",
    "version": 3
   },
   "file_extension": ".py",
   "mimetype": "text/x-python",
   "name": "python",
   "nbconvert_exporter": "python",
   "pygments_lexer": "ipython3",
   "version": "3.8.3"
  }
 },
 "nbformat": 4,
 "nbformat_minor": 4
}
